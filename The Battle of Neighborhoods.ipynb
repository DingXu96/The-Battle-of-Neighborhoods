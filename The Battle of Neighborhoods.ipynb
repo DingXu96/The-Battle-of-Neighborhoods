{
 "cells": [
  {
   "cell_type": "markdown",
   "metadata": {},
   "source": [
    "# Capstone Project - The Battle of Neighborhoods (Week 1)"
   ]
  },
  {
   "cell_type": "markdown",
   "metadata": {},
   "source": [
    "## 1. Introduction"
   ]
  },
  {
   "cell_type": "markdown",
   "metadata": {},
   "source": [
    "As pearl milk tea is becoming more and more popular in Japan, the stakeholder wants to open a milk tea shop as a new business. He needs me to recommend a location in Tokyo to open that shop.\n",
    "\n",
    "He tolds me this business mode is very mature in China. The milk tea shops always open near shopping mall, university, bakery and subway station.\n",
    "\n",
    "He wants me to find 5 best places in Tokyo to open the milk tea shop by analysing the nearby environment.\n",
    "I will select 5 possible places in Tokyo by comparing with the milk tea locations in Shanghai."
   ]
  },
  {
   "cell_type": "markdown",
   "metadata": {},
   "source": [
    "## 2. Data"
   ]
  },
  {
   "cell_type": "markdown",
   "metadata": {},
   "source": [
    "### 2.1 The geographic coordinate of milk tea shops in Shanghai and nearby environment"
   ]
  },
  {
   "cell_type": "markdown",
   "metadata": {},
   "source": [
    "I can get these geographic coordinate from Foursquare API.\n",
    "\n",
    "Using this data, i can find out the feature of milk tea shops locations in Shanghai, then i can use these features to find the similar places in Tokyo."
   ]
  },
  {
   "cell_type": "markdown",
   "metadata": {},
   "source": [
    "### 2.2 The university, shopping and public transportation geographic coordinate in Tokyo"
   ]
  },
  {
   "cell_type": "markdown",
   "metadata": {},
   "source": [
    "I can also get these geographic coordinate from Foursquare API.\n",
    "\n",
    "Using the features found in Shanghai's data, i can compare both nearby environment, then find out possible places to open shops."
   ]
  },
  {
   "cell_type": "code",
   "execution_count": null,
   "metadata": {},
   "outputs": [],
   "source": []
  }
 ],
 "metadata": {
  "kernelspec": {
   "display_name": "Python 3",
   "language": "python",
   "name": "python3"
  },
  "language_info": {
   "codemirror_mode": {
    "name": "ipython",
    "version": 3
   },
   "file_extension": ".py",
   "mimetype": "text/x-python",
   "name": "python",
   "nbconvert_exporter": "python",
   "pygments_lexer": "ipython3",
   "version": "3.7.3"
  }
 },
 "nbformat": 4,
 "nbformat_minor": 2
}
